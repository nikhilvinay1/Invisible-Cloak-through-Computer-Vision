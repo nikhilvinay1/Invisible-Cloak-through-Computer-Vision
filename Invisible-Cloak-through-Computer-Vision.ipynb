{
 "cells": [
  {
   "cell_type": "markdown",
   "metadata": {},
   "source": [
    "# Explanation"
   ]
  },
  {
   "cell_type": "markdown",
   "metadata": {},
   "source": [
    "Algorithm:\n",
    "\n",
    "* firstly Import the Libraries that we can use to make the project.\n",
    "* using a webcam to capture the live feed of the person and the background.\n",
    "* Capturing the background firstly we have to capture the background so that if the cloth comes in it shows the background.\n",
    "* Setting the values for the Cloak that the cloth we selected we have to now set the values for it.\n",
    "* making 2 masks and applying them to the frame.\n",
    "* combining the mask and showing it simultaneously\n",
    "* Displaying the final output"
   ]
  },
  {
   "cell_type": "code",
   "execution_count": 8,
   "metadata": {},
   "outputs": [],
   "source": [
    "# # Import Libraries\n",
    "# import numpy as np\n",
    "# import cv2\n",
    "# import time"
   ]
  },
  {
   "cell_type": "markdown",
   "metadata": {},
   "source": [
    "## Step 2: Using the WebCam to take the Video Feed\n",
    "#### To use webcam enter 0 and enter the video path in double-quotes."
   ]
  },
  {
   "cell_type": "code",
   "execution_count": 9,
   "metadata": {},
   "outputs": [],
   "source": [
    "# cap = cv2.VideoCapture(0)\n",
    "# time.sleep(2)     \n",
    "# background = 0"
   ]
  },
  {
   "cell_type": "markdown",
   "metadata": {},
   "source": [
    "Step 3: Capturing the Background\n",
    "Capturing the Image of the background in the first two seconds."
   ]
  },
  {
   "cell_type": "code",
   "execution_count": 10,
   "metadata": {},
   "outputs": [],
   "source": [
    "# for i in range(50):\n",
    "#     ret, background = cap.read()\n"
   ]
  },
  {
   "cell_type": "markdown",
   "metadata": {},
   "source": [
    "Step 4: Capturing the video feed using Webcam"
   ]
  },
  {
   "cell_type": "code",
   "execution_count": 4,
   "metadata": {},
   "outputs": [],
   "source": [
    "# while(cap.isOpened()): \n",
    "#     ret, img = cap.read()\n",
    "#     if not ret:\n",
    "#         break\n",
    "#     hsv = cv2.cvtColor(img,cv2.COLOR_BGR2HSV)"
   ]
  },
  {
   "cell_type": "markdown",
   "metadata": {},
   "source": [
    "Condition for this is when only the webcam is opened it will only run else the code will not run in the background without the webcam Now we have to take the values of the red color cloth to take any values and change till then the red color will start to disappear from the frame."
   ]
  },
  {
   "cell_type": "markdown",
   "metadata": {},
   "source": [
    "## Step 5: Setting the values for the cloak and making masks"
   ]
  },
  {
   "cell_type": "code",
   "execution_count": null,
   "metadata": {},
   "outputs": [],
   "source": [
    "# #all this Comes in the while loop\n",
    "#     lower_red = np.array([0,120,70])\n",
    "#     upper_red = np.array([10,255,255]) # values is for red colour Cloth\n",
    "#     mask1 = cv2.inRange(hsv, lower_red,upper_red)\n",
    "#     lower_red = np.array([170,120,70])\n",
    "#     upper_red =  np.array([180,255,255])\n",
    "# mask2 = cv2.inRange(hsv,lower_red,upper_red)\n",
    "# #Combining the masks so that It can be viewd as in one frame\n",
    "#     mask1 = mask1 +mask2\n",
    "# #After combining the mask we are storing the value in deafult mask."
   ]
  },
  {
   "cell_type": "markdown",
   "metadata": {},
   "source": [
    "Now a lot is happening in Step 5, in this part, we are trying to set the values for our cloth so that when we run our program we will eliminate these colors like in above we mentioned the cloth is of red color so we are setting the color for this cloth so that when we make mask it will simply be removed from the screen and instead of this the only color it shows the background which we captured in step 3.\n",
    "\n",
    "Now we have to set the values of the color of the cloth that we picked so here we pick RGB format of red color so you can choose any color cloth and change those values"
   ]
  },
  {
   "cell_type": "markdown",
   "metadata": {},
   "source": [
    "## Step 6: Using Morphological Transformations to remove noise from the cloth and unnecessary Details."
   ]
  },
  {
   "cell_type": "code",
   "execution_count": null,
   "metadata": {},
   "outputs": [],
   "source": [
    "# mask1 = cv2.morphologyEx(mask1,cv2.MORPH_OPEN,np.ones((3,3),np.uint8), iterations = 2)\n",
    "# mask1 = cv2.morphologyEx(mask1, cv2.MORPH_DILATE,np.ones((3,3),np.uint8), iterations = 1)\n",
    "\n",
    "# mask2 =cv2.bitwise_not(mask1)"
   ]
  },
  {
   "cell_type": "markdown",
   "metadata": {},
   "source": [
    "Step 7: Combining the masks and showing them in one frame"
   ]
  },
  {
   "cell_type": "code",
   "execution_count": null,
   "metadata": {},
   "outputs": [],
   "source": [
    "# res1 = cv2.bitwise_and(background,background,mask=mask1)"
   ]
  },
  {
   "cell_type": "code",
   "execution_count": null,
   "metadata": {},
   "outputs": [],
   "source": [
    "# #The basic work of bitwise_and is to combine these background and store it in res1\n",
    "\n",
    "\n",
    "#     res2 = cv2.bitwise_and(img,img,mask=mask2)\n",
    "#     final_output = cv2.addWeighted(res1,1,res2,1,0)\n",
    "#     cv2.imshow('Invisible Cloak',final_output)\n",
    "#     k = cv2.waitKey(10)\n",
    "#     if k==27:\n",
    "#         break\n",
    "# cap.release()\n",
    "# cv2.destroyAllWindows()\n",
    "\n",
    "# # so if user want to quit the program they can press Escape key the 27 is the code for escape key in \n",
    "\n",
    "# #ASCII vode values"
   ]
  },
  {
   "cell_type": "markdown",
   "metadata": {},
   "source": [
    "Important note: When you try to run this it takes 2 seconds to capture we selected in Step 2 time frame\n",
    "the background so try not to be in the frame in the first 2 seconds and then you can simply test out your project."
   ]
  },
  {
   "cell_type": "markdown",
   "metadata": {},
   "source": [
    "# Final Code"
   ]
  },
  {
   "cell_type": "code",
   "execution_count": 1,
   "metadata": {},
   "outputs": [],
   "source": [
    "# Import Libraries\n",
    "\n",
    "import numpy as np\n",
    "\n",
    "import cv2\n",
    "\n",
    "import time\n",
    "# camCount=0\n",
    "#To use webcam  enter 0 and to enter the video path in dowble quotes\n",
    "cap = cv2.VideoCapture(0)\n",
    "\n",
    "time.sleep(3)       # parantheis haas two because the camera needs time to adjust it self i according to the environment(ANDHERA KAMRA)\n",
    "\n",
    "background = 0\n",
    "\n",
    "\n",
    "# Capturing the background\n",
    "for i in range(60):\n",
    "\n",
    "    ret, background = cap.read()\n",
    "#capturing image\n",
    "background = np.flip(background,axis=1)\n",
    "while(cap.isOpened()):  #Condition for this is when only the web cam is opened  it will only run the code else the code will not run in the background without the webbcam\n",
    "\n",
    "    ret, img = cap.read()\n",
    "    if not ret:\n",
    "        break\n",
    "    img = np.flip(img,axis=1)\n",
    "    hsv = cv2.cvtColor(img,cv2.COLOR_BGR2HSV)\n",
    "    #HSV values\n",
    "\n",
    "    #setting the values for the cloak\n",
    "    lower_red = np.array([0,120,70])\n",
    "    upper_red = np.array([10,255,255])\n",
    "\n",
    "    mask1 = cv2.inRange(hsv, lower_red,upper_red)\n",
    "\n",
    "    lower_red = np.array([170,120,70])\n",
    "    upper_red =  np.array([180,255,255])\n",
    "    mask2 = cv2.inRange(hsv,lower_red,upper_red)\n",
    "\n",
    "    mask1 = mask1 +mask2\n",
    "\n",
    "    mask1 = cv2.morphologyEx(mask1,cv2.MORPH_OPEN,np.ones((3,3),np.uint8), iterations = 2)\n",
    "    mask1 = cv2.morphologyEx(mask1, cv2.MORPH_DILATE,np.ones((3,3),np.uint8), iterations = 1)\n",
    "\n",
    "    mask2 =cv2.bitwise_not(mask1)\n",
    "\n",
    "    res1 = cv2.bitwise_and(background,background,mask=mask1)\n",
    "    res2 = cv2.bitwise_and(img,img,mask=mask2)\n",
    "    final_output = cv2.addWeighted(res1,1,res2,1,0)\n",
    "    cv2.imshow('Invisible Cloak',final_output)\n",
    "    k = cv2.waitKey(10)\n",
    "    if k==27:\n",
    "        break\n",
    "cap.release()\n",
    "Gcv2.destroyAllWindows()"
   ]
  },
  {
   "cell_type": "code",
   "execution_count": null,
   "metadata": {},
   "outputs": [],
   "source": []
  }
 ],
 "metadata": {
  "kernelspec": {
   "display_name": "Python 3",
   "language": "python",
   "name": "python3"
  },
  "language_info": {
   "codemirror_mode": {
    "name": "ipython",
    "version": 3
   },
   "file_extension": ".py",
   "mimetype": "text/x-python",
   "name": "python",
   "nbconvert_exporter": "python",
   "pygments_lexer": "ipython3",
   "version": "3.8.8"
  }
 },
 "nbformat": 4,
 "nbformat_minor": 2
}
